{
 "cells": [
  {
   "cell_type": "markdown",
   "id": "86d0d998-d8f9-4b28-800a-2a888d83b5b5",
   "metadata": {},
   "source": [
    "Q1. What is Flask Framework? What are the advantages of Flask Framework?\n",
    "Flask is a micro web framework for Python designed to make web application development simple and scalable. It provides the essential components to build web applications without unnecessary complexity.\n",
    "Advantages:\n",
    "Lightweight and Flexible: Minimal dependencies and easy to extend.\n",
    "Easy to Learn: Ideal for beginners due to its simplicity.\n",
    "Modular Design: Supports extensions for added functionality.\n",
    "Built-in Development Server: Facilitates testing and debugging."
   ]
  },
  {
   "cell_type": "markdown",
   "id": "720e724f-8daa-4691-b45e-7eb0cbdfb1e6",
   "metadata": {},
   "source": [
    "Q2. Create a simple Flask application to display ‘Hello World!!’. Attach the screenshot of the output in Jupyter Notebook.\n",
    "\n",
    "\n",
    "\n",
    "from flask import Flask\n",
    "\n",
    "app = Flask(__name__)\n",
    "\n",
    "@app.route('/')\n",
    "def hello_world():\n",
    "    return 'Hello World!!'\n",
    "\n",
    "if __name__ == '__main__':\n",
    "    app.run()"
   ]
  },
  {
   "cell_type": "markdown",
   "id": "1c7f868c-d62a-40fe-8c8d-ec27830a625e",
   "metadata": {},
   "source": [
    "Q3. What is App routing in Flask? Why do we use app routes?\n",
    "App routing in Flask maps URLs to functions that handle requests. It defines how URLs are processed and what content is returned.\n",
    "Usage:\n",
    "Simplifies URL management.\n",
    "Directs users to specific views or resources.\n",
    "Enhances user experience by organizing content accessibly."
   ]
  },
  {
   "cell_type": "markdown",
   "id": "26bae8be-2215-4a29-b70c-7aa384a1a240",
   "metadata": {},
   "source": [
    "Q4. Create a “/welcome” route to display the welcome message “Welcome to ABC Corporation” and a “/” route to show details.\n",
    "from flask import Flask\n",
    "\n",
    "app = Flask(__name__)\n",
    "\n",
    "@app.route('/')\n",
    "def company_info():\n",
    "    return '''\n",
    "    Company Name: ABC Corporation<br>\n",
    "    Location: India<br>\n",
    "    Contact Detail: 999-999-9999\n",
    "    '''\n",
    "\n",
    "@app.route('/welcome')\n",
    "def welcome():\n",
    "    return 'Welcome to ABC Corporation'\n",
    "\n",
    "if __name__ == '__main__':\n",
    "    app.run()"
   ]
  },
  {
   "cell_type": "markdown",
   "id": "776fe137-7f74-4366-a77e-5ec34dfa7e8b",
   "metadata": {},
   "source": [
    "Q5. What function is used in Flask for URL Building? Write a Python code to demonstrate the working of the url_for() function.\n",
    "\n",
    "from flask import Flask, url_for\n",
    "\n",
    "app = Flask(__name__)\n",
    "\n",
    "@app.route('/')\n",
    "def index():\n",
    "    return 'Index Page'\n",
    "\n",
    "@app.route('/about')\n",
    "def about():\n",
    "    return 'About Page'\n",
    "\n",
    "with app.test_request_context():\n",
    "    print(url_for('index'))  # Output: /\n",
    "    print(url_for('about'))  # Output: /about"
   ]
  },
  {
   "cell_type": "code",
   "execution_count": null,
   "id": "cc3c85e4-0ded-4e7f-98f6-6c458ed52252",
   "metadata": {},
   "outputs": [],
   "source": []
  }
 ],
 "metadata": {
  "kernelspec": {
   "display_name": "Python 3 (ipykernel)",
   "language": "python",
   "name": "python3"
  },
  "language_info": {
   "codemirror_mode": {
    "name": "ipython",
    "version": 3
   },
   "file_extension": ".py",
   "mimetype": "text/x-python",
   "name": "python",
   "nbconvert_exporter": "python",
   "pygments_lexer": "ipython3",
   "version": "3.12.4"
  }
 },
 "nbformat": 4,
 "nbformat_minor": 5
}
